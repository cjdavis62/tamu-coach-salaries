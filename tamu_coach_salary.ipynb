{
 "cells": [
  {
   "cell_type": "code",
   "execution_count": 19,
   "id": "6dbd4146-5e51-476f-8aff-e71994c4811c",
   "metadata": {
    "execution": {
     "iopub.execute_input": "2023-08-07T22:16:12.419224Z",
     "iopub.status.busy": "2023-08-07T22:16:12.419224Z",
     "iopub.status.idle": "2023-08-07T22:16:12.438173Z",
     "shell.execute_reply": "2023-08-07T22:16:12.437202Z",
     "shell.execute_reply.started": "2023-08-07T22:16:12.419224Z"
    },
    "tags": []
   },
   "outputs": [],
   "source": [
    "import numpy as np\n",
    "import pandas as pd\n",
    "import seaborn as sns\n",
    "import matplotlib.pyplot as plt\n",
    "import datetime"
   ]
  },
  {
   "cell_type": "markdown",
   "id": "1215e138-8a7d-4b09-ab07-245417f8c4d1",
   "metadata": {},
   "source": [
    "Use yfinance (yfinance-0.2.27) for inflation data"
   ]
  },
  {
   "cell_type": "code",
   "execution_count": 16,
   "id": "e3d3a18c-b960-4eda-88ba-4b56bbf129e0",
   "metadata": {
    "execution": {
     "iopub.execute_input": "2023-08-07T22:15:04.340284Z",
     "iopub.status.busy": "2023-08-07T22:15:04.340284Z",
     "iopub.status.idle": "2023-08-07T22:15:04.499889Z",
     "shell.execute_reply": "2023-08-07T22:15:04.498887Z",
     "shell.execute_reply.started": "2023-08-07T22:15:04.340284Z"
    }
   },
   "outputs": [],
   "source": [
    "import yfinance as yf"
   ]
  },
  {
   "cell_type": "code",
   "execution_count": null,
   "id": "e7f27376-37e5-46b5-882b-e65259ade493",
   "metadata": {},
   "outputs": [],
   "source": []
  },
  {
   "cell_type": "code",
   "execution_count": 2,
   "id": "4f8785bb-32f3-4a03-8c07-40374942937e",
   "metadata": {
    "execution": {
     "iopub.execute_input": "2023-08-07T22:11:23.361543Z",
     "iopub.status.busy": "2023-08-07T22:11:23.360543Z",
     "iopub.status.idle": "2023-08-07T22:11:23.375501Z",
     "shell.execute_reply": "2023-08-07T22:11:23.374502Z",
     "shell.execute_reply.started": "2023-08-07T22:11:23.361543Z"
    },
    "tags": []
   },
   "outputs": [],
   "source": [
    "coaches = ['Jimbo Fisher', 'Kevin Sumlin', 'Mike Sherman', 'Dennis Franchione', 'RC Slocum', 'Jackie Sherrill', 'Tom Wilson', 'Emory Bellard', 'Gene Stallings', 'Henry Foldberg', 'James A Myers', 'Bear Bryant', 'Raymond George']"
   ]
  },
  {
   "cell_type": "code",
   "execution_count": 3,
   "id": "3b472962-15c2-4f5e-af19-e47c97bb3e03",
   "metadata": {
    "execution": {
     "iopub.execute_input": "2023-08-07T22:11:23.379492Z",
     "iopub.status.busy": "2023-08-07T22:11:23.378493Z",
     "iopub.status.idle": "2023-08-07T22:11:23.391459Z",
     "shell.execute_reply": "2023-08-07T22:11:23.390483Z",
     "shell.execute_reply.started": "2023-08-07T22:11:23.379492Z"
    },
    "tags": []
   },
   "outputs": [],
   "source": [
    "salaries = {'Jimbo Fisher': 9e6, \n",
    "            'Kevin Sumlin': 5e6, \n",
    "            'Mike Sherman': 2e6, \n",
    "            'Dennis Franchione': 2e6,\n",
    "            'RC Slocum': 1e6,\n",
    "            'Jackie Sherrill': 2.4e5,\n",
    "            'Tom Wilson': 90e3, \n",
    "            'Emory Bellard': np.nan,\n",
    "            'Gene Stallings': np.nan, \n",
    "            'Henry Foldberg': np.nan,\n",
    "            'James A Myers': np.nan, \n",
    "            'Bear Bryant': 17.5e3, # for post-TAMU salary \n",
    "            'Raymond George': np.nan,\n",
    "            }"
   ]
  },
  {
   "cell_type": "code",
   "execution_count": 4,
   "id": "98fdfc99-62fa-4391-9b97-448e88f2aee7",
   "metadata": {
    "execution": {
     "iopub.execute_input": "2023-08-07T22:11:23.393459Z",
     "iopub.status.busy": "2023-08-07T22:11:23.392458Z",
     "iopub.status.idle": "2023-08-07T22:11:23.407416Z",
     "shell.execute_reply": "2023-08-07T22:11:23.406445Z",
     "shell.execute_reply.started": "2023-08-07T22:11:23.393459Z"
    },
    "tags": []
   },
   "outputs": [],
   "source": [
    "salary_source = {'Jimbo Fisher': 'https://collegefootballnetwork.com/jimbo-fisher-salary-contract-net-worth/', \n",
    "            'Kevin Sumlin': 'https://www.texastribune.org/2017/11/27/texas-am-kevin-sumlin-entitled-10-million-buyout-after-his-firing/', \n",
    "            'Mike Sherman': 'https://sports.usatoday.com/ncaa/salaries/football/coach/153', \n",
    "            'Dennis Franchione': 'https://sports.usatoday.com/ncaa/salaries/football/coach/999321',\n",
    "            'RC Slocum': 'https://www.myplainview.com/news/article/Slocum-fired-as-A-M-head-coach-9009432.php',\n",
    "            'Jackie Sherrill': ['https://vault.si.com/vault/1982/02/01/jackie-hits-the-jackpot', 'https://www.washingtonpost.com/archive/sports/1982/05/24/bryants-450000-tops-us-coaches/1b13cfe5-b766-4dcc-b1a6-f058796f3936/'],\n",
    "            'Tom Wilson': 'https://vault.si.com/vault/1982/02/01/jackie-hits-the-jackpot', \n",
    "            'Emory Bellard': '',\n",
    "            'Gene Stallings': '', \n",
    "            'Henry Foldberg': '',\n",
    "            'James A Myers': '', \n",
    "            'Bear Bryant': 'https://news.google.com/newspapers?id=eWUeAAAAIBAJ&sjid=5JkEAAAAIBAJ&dq=coach+bryant&pg=6621,521227&hl=en', \n",
    "            'Raymond George': '',\n",
    "            }"
   ]
  },
  {
   "cell_type": "code",
   "execution_count": 5,
   "id": "da1cebad-ad40-43f5-acb2-c111aca6d026",
   "metadata": {
    "execution": {
     "iopub.execute_input": "2023-08-07T22:11:23.409412Z",
     "iopub.status.busy": "2023-08-07T22:11:23.408416Z",
     "iopub.status.idle": "2023-08-07T22:11:23.423373Z",
     "shell.execute_reply": "2023-08-07T22:11:23.422375Z",
     "shell.execute_reply.started": "2023-08-07T22:11:23.409412Z"
    },
    "tags": []
   },
   "outputs": [],
   "source": [
    "start_years = {'Jimbo Fisher': 2018, \n",
    "            'Kevin Sumlin': 2012, \n",
    "            'Mike Sherman': 2008, \n",
    "            'Dennis Franchione': 2003,\n",
    "            'RC Slocum': 1989,\n",
    "            'Jackie Sherrill': 1982,\n",
    "            'Tom Wilson': 1978, \n",
    "            'Emory Bellard': 1972,\n",
    "            'Gene Stallings': 1965, \n",
    "            'Henry Foldberg': 1962,\n",
    "            'James A Myers': 1958, \n",
    "            'Bear Bryant': 1954, \n",
    "            'Raymond George': 1951,\n",
    "            }"
   ]
  },
  {
   "cell_type": "code",
   "execution_count": 32,
   "id": "e7cf9194-187d-46ec-8317-e7bf9dadaa7f",
   "metadata": {
    "execution": {
     "iopub.execute_input": "2023-08-07T22:22:42.046229Z",
     "iopub.status.busy": "2023-08-07T22:22:42.046229Z",
     "iopub.status.idle": "2023-08-07T22:22:42.053213Z",
     "shell.execute_reply": "2023-08-07T22:22:42.052213Z",
     "shell.execute_reply.started": "2023-08-07T22:22:42.046229Z"
    },
    "tags": []
   },
   "outputs": [],
   "source": [
    "coach_data_df = pd.DataFrame(coaches).rename(columns={0: 'Coach'})"
   ]
  },
  {
   "cell_type": "code",
   "execution_count": 33,
   "id": "da4036fa-da38-4487-9647-e35ec5b1df34",
   "metadata": {
    "execution": {
     "iopub.execute_input": "2023-08-07T22:22:42.183861Z",
     "iopub.status.busy": "2023-08-07T22:22:42.183861Z",
     "iopub.status.idle": "2023-08-07T22:22:42.194833Z",
     "shell.execute_reply": "2023-08-07T22:22:42.193834Z",
     "shell.execute_reply.started": "2023-08-07T22:22:42.183861Z"
    },
    "tags": []
   },
   "outputs": [],
   "source": [
    "coach_data_df['salary'] = coach_data_df['Coach'].apply(lambda x: salaries[x])\n",
    "coach_data_df['start_year'] = coach_data_df['Coach'].apply(lambda x: start_years[x])\n",
    "coach_data_df['salary_source'] = coach_data_df['Coach'].apply(lambda x: salary_source[x])"
   ]
  },
  {
   "cell_type": "code",
   "execution_count": 35,
   "id": "13158f98-c074-494e-ad0d-ce292c44fa47",
   "metadata": {
    "execution": {
     "iopub.execute_input": "2023-08-07T22:22:44.576459Z",
     "iopub.status.busy": "2023-08-07T22:22:44.575484Z",
     "iopub.status.idle": "2023-08-07T22:22:44.593415Z",
     "shell.execute_reply": "2023-08-07T22:22:44.592416Z",
     "shell.execute_reply.started": "2023-08-07T22:22:44.576459Z"
    },
    "tags": []
   },
   "outputs": [
    {
     "data": {
      "text/html": [
       "<div>\n",
       "<style scoped>\n",
       "    .dataframe tbody tr th:only-of-type {\n",
       "        vertical-align: middle;\n",
       "    }\n",
       "\n",
       "    .dataframe tbody tr th {\n",
       "        vertical-align: top;\n",
       "    }\n",
       "\n",
       "    .dataframe thead th {\n",
       "        text-align: right;\n",
       "    }\n",
       "</style>\n",
       "<table border=\"1\" class=\"dataframe\">\n",
       "  <thead>\n",
       "    <tr style=\"text-align: right;\">\n",
       "      <th></th>\n",
       "      <th>Coach</th>\n",
       "      <th>salary</th>\n",
       "      <th>start_year</th>\n",
       "      <th>salary_source</th>\n",
       "    </tr>\n",
       "  </thead>\n",
       "  <tbody>\n",
       "    <tr>\n",
       "      <th>0</th>\n",
       "      <td>Jimbo Fisher</td>\n",
       "      <td>9000000.0</td>\n",
       "      <td>2018</td>\n",
       "      <td>https://collegefootballnetwork.com/jimbo-fishe...</td>\n",
       "    </tr>\n",
       "    <tr>\n",
       "      <th>1</th>\n",
       "      <td>Kevin Sumlin</td>\n",
       "      <td>5000000.0</td>\n",
       "      <td>2012</td>\n",
       "      <td>https://www.texastribune.org/2017/11/27/texas-...</td>\n",
       "    </tr>\n",
       "    <tr>\n",
       "      <th>2</th>\n",
       "      <td>Mike Sherman</td>\n",
       "      <td>2000000.0</td>\n",
       "      <td>2008</td>\n",
       "      <td>https://sports.usatoday.com/ncaa/salaries/foot...</td>\n",
       "    </tr>\n",
       "    <tr>\n",
       "      <th>3</th>\n",
       "      <td>Dennis Franchione</td>\n",
       "      <td>2000000.0</td>\n",
       "      <td>2003</td>\n",
       "      <td>https://sports.usatoday.com/ncaa/salaries/foot...</td>\n",
       "    </tr>\n",
       "    <tr>\n",
       "      <th>4</th>\n",
       "      <td>RC Slocum</td>\n",
       "      <td>1000000.0</td>\n",
       "      <td>1989</td>\n",
       "      <td>https://www.myplainview.com/news/article/Slocu...</td>\n",
       "    </tr>\n",
       "    <tr>\n",
       "      <th>5</th>\n",
       "      <td>Jackie Sherrill</td>\n",
       "      <td>240000.0</td>\n",
       "      <td>1982</td>\n",
       "      <td>[https://vault.si.com/vault/1982/02/01/jackie-...</td>\n",
       "    </tr>\n",
       "    <tr>\n",
       "      <th>6</th>\n",
       "      <td>Tom Wilson</td>\n",
       "      <td>90000.0</td>\n",
       "      <td>1978</td>\n",
       "      <td>https://vault.si.com/vault/1982/02/01/jackie-h...</td>\n",
       "    </tr>\n",
       "    <tr>\n",
       "      <th>7</th>\n",
       "      <td>Emory Bellard</td>\n",
       "      <td>NaN</td>\n",
       "      <td>1972</td>\n",
       "      <td></td>\n",
       "    </tr>\n",
       "    <tr>\n",
       "      <th>8</th>\n",
       "      <td>Gene Stallings</td>\n",
       "      <td>NaN</td>\n",
       "      <td>1965</td>\n",
       "      <td></td>\n",
       "    </tr>\n",
       "    <tr>\n",
       "      <th>9</th>\n",
       "      <td>Henry Foldberg</td>\n",
       "      <td>NaN</td>\n",
       "      <td>1962</td>\n",
       "      <td></td>\n",
       "    </tr>\n",
       "    <tr>\n",
       "      <th>10</th>\n",
       "      <td>James A Myers</td>\n",
       "      <td>NaN</td>\n",
       "      <td>1958</td>\n",
       "      <td></td>\n",
       "    </tr>\n",
       "    <tr>\n",
       "      <th>11</th>\n",
       "      <td>Bear Bryant</td>\n",
       "      <td>17500.0</td>\n",
       "      <td>1954</td>\n",
       "      <td>https://news.google.com/newspapers?id=eWUeAAAA...</td>\n",
       "    </tr>\n",
       "    <tr>\n",
       "      <th>12</th>\n",
       "      <td>Raymond George</td>\n",
       "      <td>NaN</td>\n",
       "      <td>1951</td>\n",
       "      <td></td>\n",
       "    </tr>\n",
       "  </tbody>\n",
       "</table>\n",
       "</div>"
      ],
      "text/plain": [
       "                Coach     salary  start_year  \\\n",
       "0        Jimbo Fisher  9000000.0        2018   \n",
       "1        Kevin Sumlin  5000000.0        2012   \n",
       "2        Mike Sherman  2000000.0        2008   \n",
       "3   Dennis Franchione  2000000.0        2003   \n",
       "4           RC Slocum  1000000.0        1989   \n",
       "5     Jackie Sherrill   240000.0        1982   \n",
       "6          Tom Wilson    90000.0        1978   \n",
       "7       Emory Bellard        NaN        1972   \n",
       "8      Gene Stallings        NaN        1965   \n",
       "9      Henry Foldberg        NaN        1962   \n",
       "10      James A Myers        NaN        1958   \n",
       "11        Bear Bryant    17500.0        1954   \n",
       "12     Raymond George        NaN        1951   \n",
       "\n",
       "                                        salary_source  \n",
       "0   https://collegefootballnetwork.com/jimbo-fishe...  \n",
       "1   https://www.texastribune.org/2017/11/27/texas-...  \n",
       "2   https://sports.usatoday.com/ncaa/salaries/foot...  \n",
       "3   https://sports.usatoday.com/ncaa/salaries/foot...  \n",
       "4   https://www.myplainview.com/news/article/Slocu...  \n",
       "5   [https://vault.si.com/vault/1982/02/01/jackie-...  \n",
       "6   https://vault.si.com/vault/1982/02/01/jackie-h...  \n",
       "7                                                      \n",
       "8                                                      \n",
       "9                                                      \n",
       "10                                                     \n",
       "11  https://news.google.com/newspapers?id=eWUeAAAA...  \n",
       "12                                                     "
      ]
     },
     "execution_count": 35,
     "metadata": {},
     "output_type": "execute_result"
    }
   ],
   "source": [
    "coach_data_df"
   ]
  },
  {
   "cell_type": "code",
   "execution_count": 15,
   "id": "cd301abf-807c-4f53-8404-6790258aa038",
   "metadata": {
    "execution": {
     "iopub.execute_input": "2023-08-07T22:13:05.468906Z",
     "iopub.status.busy": "2023-08-07T22:13:05.467912Z",
     "iopub.status.idle": "2023-08-07T22:13:05.824955Z",
     "shell.execute_reply": "2023-08-07T22:13:05.824098Z",
     "shell.execute_reply.started": "2023-08-07T22:13:05.468906Z"
    },
    "tags": []
   },
   "outputs": [
    {
     "data": {
      "image/png": "[encoded data removed]",
      "text/plain": [
       "<Figure size 640x480 with 1 Axes>"
      ]
     },
     "metadata": {},
     "output_type": "display_data"
    }
   ],
   "source": [
    "sns.scatterplot(coach_data_df, x='start_year', y='salary', hue='Coach')\n",
    "plt.ylabel('Salary [Millions]')\n",
    "plt.xlabel('Starting Year of Coaching')\n",
    "plt.title('Coach Salary (Not inflation adjusted)')\n",
    "plt.show()\n"
   ]
  },
  {
   "cell_type": "markdown",
   "id": "6ba5441a-1162-4225-a01a-167abf1e23d7",
   "metadata": {},
   "source": [
    "Data from: https://data.bls.gov/timeseries/CUUR0000SA0?years_option=all_years"
   ]
  },
  {
   "cell_type": "code",
   "execution_count": 36,
   "id": "1bd1a7e8-0ca1-4b79-9403-969dd4f6a914",
   "metadata": {
    "execution": {
     "iopub.execute_input": "2023-08-07T22:22:47.181762Z",
     "iopub.status.busy": "2023-08-07T22:22:47.180763Z",
     "iopub.status.idle": "2023-08-07T22:22:47.256561Z",
     "shell.execute_reply": "2023-08-07T22:22:47.255690Z",
     "shell.execute_reply.started": "2023-08-07T22:22:47.181762Z"
    },
    "tags": []
   },
   "outputs": [
    {
     "name": "stderr",
     "output_type": "stream",
     "text": [
      "C:\\Users\\Owner\\anaconda3\\lib\\site-packages\\openpyxl\\styles\\stylesheet.py:226: UserWarning: Workbook contains no default style, apply openpyxl's default\n",
      "  warn(\"Workbook contains no default style, apply openpyxl's default\")\n"
     ]
    }
   ],
   "source": [
    "historical_cpi = pd.read_excel('CPI_index_historical.xlsx', skiprows = 11)"
   ]
  },
  {
   "cell_type": "code",
   "execution_count": 37,
   "id": "91a24a7a-2344-4590-b181-94664963e0eb",
   "metadata": {
    "execution": {
     "iopub.execute_input": "2023-08-07T22:22:47.399296Z",
     "iopub.status.busy": "2023-08-07T22:22:47.399296Z",
     "iopub.status.idle": "2023-08-07T22:22:47.439191Z",
     "shell.execute_reply": "2023-08-07T22:22:47.438192Z",
     "shell.execute_reply.started": "2023-08-07T22:22:47.399296Z"
    },
    "tags": []
   },
   "outputs": [
    {
     "data": {
      "text/html": [
       "<div>\n",
       "<style scoped>\n",
       "    .dataframe tbody tr th:only-of-type {\n",
       "        vertical-align: middle;\n",
       "    }\n",
       "\n",
       "    .dataframe tbody tr th {\n",
       "        vertical-align: top;\n",
       "    }\n",
       "\n",
       "    .dataframe thead th {\n",
       "        text-align: right;\n",
       "    }\n",
       "</style>\n",
       "<table border=\"1\" class=\"dataframe\">\n",
       "  <thead>\n",
       "    <tr style=\"text-align: right;\">\n",
       "      <th></th>\n",
       "      <th>Year</th>\n",
       "      <th>Jan</th>\n",
       "      <th>Feb</th>\n",
       "      <th>Mar</th>\n",
       "      <th>Apr</th>\n",
       "      <th>May</th>\n",
       "      <th>Jun</th>\n",
       "      <th>Jul</th>\n",
       "      <th>Aug</th>\n",
       "      <th>Sep</th>\n",
       "      <th>Oct</th>\n",
       "      <th>Nov</th>\n",
       "      <th>Dec</th>\n",
       "      <th>HALF1</th>\n",
       "      <th>HALF2</th>\n",
       "    </tr>\n",
       "  </thead>\n",
       "  <tbody>\n",
       "    <tr>\n",
       "      <th>0</th>\n",
       "      <td>1913</td>\n",
       "      <td>9.800</td>\n",
       "      <td>9.800</td>\n",
       "      <td>9.800</td>\n",
       "      <td>9.800</td>\n",
       "      <td>9.700</td>\n",
       "      <td>9.800</td>\n",
       "      <td>9.900</td>\n",
       "      <td>9.900</td>\n",
       "      <td>10.000</td>\n",
       "      <td>10.000</td>\n",
       "      <td>10.100</td>\n",
       "      <td>10.000</td>\n",
       "      <td>NaN</td>\n",
       "      <td>NaN</td>\n",
       "    </tr>\n",
       "    <tr>\n",
       "      <th>1</th>\n",
       "      <td>1914</td>\n",
       "      <td>10.000</td>\n",
       "      <td>9.900</td>\n",
       "      <td>9.900</td>\n",
       "      <td>9.800</td>\n",
       "      <td>9.900</td>\n",
       "      <td>9.900</td>\n",
       "      <td>10.000</td>\n",
       "      <td>10.200</td>\n",
       "      <td>10.200</td>\n",
       "      <td>10.100</td>\n",
       "      <td>10.200</td>\n",
       "      <td>10.100</td>\n",
       "      <td>NaN</td>\n",
       "      <td>NaN</td>\n",
       "    </tr>\n",
       "    <tr>\n",
       "      <th>2</th>\n",
       "      <td>1915</td>\n",
       "      <td>10.100</td>\n",
       "      <td>10.000</td>\n",
       "      <td>9.900</td>\n",
       "      <td>10.000</td>\n",
       "      <td>10.100</td>\n",
       "      <td>10.100</td>\n",
       "      <td>10.100</td>\n",
       "      <td>10.100</td>\n",
       "      <td>10.100</td>\n",
       "      <td>10.200</td>\n",
       "      <td>10.300</td>\n",
       "      <td>10.300</td>\n",
       "      <td>NaN</td>\n",
       "      <td>NaN</td>\n",
       "    </tr>\n",
       "    <tr>\n",
       "      <th>3</th>\n",
       "      <td>1916</td>\n",
       "      <td>10.400</td>\n",
       "      <td>10.400</td>\n",
       "      <td>10.500</td>\n",
       "      <td>10.600</td>\n",
       "      <td>10.700</td>\n",
       "      <td>10.800</td>\n",
       "      <td>10.800</td>\n",
       "      <td>10.900</td>\n",
       "      <td>11.100</td>\n",
       "      <td>11.300</td>\n",
       "      <td>11.500</td>\n",
       "      <td>11.600</td>\n",
       "      <td>NaN</td>\n",
       "      <td>NaN</td>\n",
       "    </tr>\n",
       "    <tr>\n",
       "      <th>4</th>\n",
       "      <td>1917</td>\n",
       "      <td>11.700</td>\n",
       "      <td>12.000</td>\n",
       "      <td>12.000</td>\n",
       "      <td>12.600</td>\n",
       "      <td>12.800</td>\n",
       "      <td>13.000</td>\n",
       "      <td>12.800</td>\n",
       "      <td>13.000</td>\n",
       "      <td>13.300</td>\n",
       "      <td>13.500</td>\n",
       "      <td>13.500</td>\n",
       "      <td>13.700</td>\n",
       "      <td>NaN</td>\n",
       "      <td>NaN</td>\n",
       "    </tr>\n",
       "    <tr>\n",
       "      <th>...</th>\n",
       "      <td>...</td>\n",
       "      <td>...</td>\n",
       "      <td>...</td>\n",
       "      <td>...</td>\n",
       "      <td>...</td>\n",
       "      <td>...</td>\n",
       "      <td>...</td>\n",
       "      <td>...</td>\n",
       "      <td>...</td>\n",
       "      <td>...</td>\n",
       "      <td>...</td>\n",
       "      <td>...</td>\n",
       "      <td>...</td>\n",
       "      <td>...</td>\n",
       "      <td>...</td>\n",
       "    </tr>\n",
       "    <tr>\n",
       "      <th>106</th>\n",
       "      <td>2019</td>\n",
       "      <td>251.712</td>\n",
       "      <td>252.776</td>\n",
       "      <td>254.202</td>\n",
       "      <td>255.548</td>\n",
       "      <td>256.092</td>\n",
       "      <td>256.143</td>\n",
       "      <td>256.571</td>\n",
       "      <td>256.558</td>\n",
       "      <td>256.759</td>\n",
       "      <td>257.346</td>\n",
       "      <td>257.208</td>\n",
       "      <td>256.974</td>\n",
       "      <td>254.412</td>\n",
       "      <td>256.903</td>\n",
       "    </tr>\n",
       "    <tr>\n",
       "      <th>107</th>\n",
       "      <td>2020</td>\n",
       "      <td>257.971</td>\n",
       "      <td>258.678</td>\n",
       "      <td>258.115</td>\n",
       "      <td>256.389</td>\n",
       "      <td>256.394</td>\n",
       "      <td>257.797</td>\n",
       "      <td>259.101</td>\n",
       "      <td>259.918</td>\n",
       "      <td>260.280</td>\n",
       "      <td>260.388</td>\n",
       "      <td>260.229</td>\n",
       "      <td>260.474</td>\n",
       "      <td>257.557</td>\n",
       "      <td>260.065</td>\n",
       "    </tr>\n",
       "    <tr>\n",
       "      <th>108</th>\n",
       "      <td>2021</td>\n",
       "      <td>261.582</td>\n",
       "      <td>263.014</td>\n",
       "      <td>264.877</td>\n",
       "      <td>267.054</td>\n",
       "      <td>269.195</td>\n",
       "      <td>271.696</td>\n",
       "      <td>273.003</td>\n",
       "      <td>273.567</td>\n",
       "      <td>274.310</td>\n",
       "      <td>276.589</td>\n",
       "      <td>277.948</td>\n",
       "      <td>278.802</td>\n",
       "      <td>266.236</td>\n",
       "      <td>275.703</td>\n",
       "    </tr>\n",
       "    <tr>\n",
       "      <th>109</th>\n",
       "      <td>2022</td>\n",
       "      <td>281.148</td>\n",
       "      <td>283.716</td>\n",
       "      <td>287.504</td>\n",
       "      <td>289.109</td>\n",
       "      <td>292.296</td>\n",
       "      <td>296.311</td>\n",
       "      <td>296.276</td>\n",
       "      <td>296.171</td>\n",
       "      <td>296.808</td>\n",
       "      <td>298.012</td>\n",
       "      <td>297.711</td>\n",
       "      <td>296.797</td>\n",
       "      <td>288.347</td>\n",
       "      <td>296.963</td>\n",
       "    </tr>\n",
       "    <tr>\n",
       "      <th>110</th>\n",
       "      <td>2023</td>\n",
       "      <td>299.170</td>\n",
       "      <td>300.840</td>\n",
       "      <td>301.836</td>\n",
       "      <td>303.363</td>\n",
       "      <td>304.127</td>\n",
       "      <td>305.109</td>\n",
       "      <td>NaN</td>\n",
       "      <td>NaN</td>\n",
       "      <td>NaN</td>\n",
       "      <td>NaN</td>\n",
       "      <td>NaN</td>\n",
       "      <td>NaN</td>\n",
       "      <td>302.408</td>\n",
       "      <td>NaN</td>\n",
       "    </tr>\n",
       "  </tbody>\n",
       "</table>\n",
       "<p>111 rows × 15 columns</p>\n",
       "</div>"
      ],
      "text/plain": [
       "     Year      Jan      Feb      Mar      Apr      May      Jun      Jul  \\\n",
       "0    1913    9.800    9.800    9.800    9.800    9.700    9.800    9.900   \n",
       "1    1914   10.000    9.900    9.900    9.800    9.900    9.900   10.000   \n",
       "2    1915   10.100   10.000    9.900   10.000   10.100   10.100   10.100   \n",
       "3    1916   10.400   10.400   10.500   10.600   10.700   10.800   10.800   \n",
       "4    1917   11.700   12.000   12.000   12.600   12.800   13.000   12.800   \n",
       "..    ...      ...      ...      ...      ...      ...      ...      ...   \n",
       "106  2019  251.712  252.776  254.202  255.548  256.092  256.143  256.571   \n",
       "107  2020  257.971  258.678  258.115  256.389  256.394  257.797  259.101   \n",
       "108  2021  261.582  263.014  264.877  267.054  269.195  271.696  273.003   \n",
       "109  2022  281.148  283.716  287.504  289.109  292.296  296.311  296.276   \n",
       "110  2023  299.170  300.840  301.836  303.363  304.127  305.109      NaN   \n",
       "\n",
       "         Aug      Sep      Oct      Nov      Dec    HALF1    HALF2  \n",
       "0      9.900   10.000   10.000   10.100   10.000      NaN      NaN  \n",
       "1     10.200   10.200   10.100   10.200   10.100      NaN      NaN  \n",
       "2     10.100   10.100   10.200   10.300   10.300      NaN      NaN  \n",
       "3     10.900   11.100   11.300   11.500   11.600      NaN      NaN  \n",
       "4     13.000   13.300   13.500   13.500   13.700      NaN      NaN  \n",
       "..       ...      ...      ...      ...      ...      ...      ...  \n",
       "106  256.558  256.759  257.346  257.208  256.974  254.412  256.903  \n",
       "107  259.918  260.280  260.388  260.229  260.474  257.557  260.065  \n",
       "108  273.567  274.310  276.589  277.948  278.802  266.236  275.703  \n",
       "109  296.171  296.808  298.012  297.711  296.797  288.347  296.963  \n",
       "110      NaN      NaN      NaN      NaN      NaN  302.408      NaN  \n",
       "\n",
       "[111 rows x 15 columns]"
      ]
     },
     "execution_count": 37,
     "metadata": {},
     "output_type": "execute_result"
    }
   ],
   "source": [
    "historical_cpi"
   ]
  },
  {
   "cell_type": "code",
   "execution_count": 39,
   "id": "067d628f-7055-47ef-908c-35efe3908ddf",
   "metadata": {
    "execution": {
     "iopub.execute_input": "2023-08-07T22:23:03.079538Z",
     "iopub.status.busy": "2023-08-07T22:23:03.079538Z",
     "iopub.status.idle": "2023-08-07T22:23:03.094498Z",
     "shell.execute_reply": "2023-08-07T22:23:03.093503Z",
     "shell.execute_reply.started": "2023-08-07T22:23:03.079538Z"
    },
    "tags": []
   },
   "outputs": [],
   "source": [
    "coach_data_df = pd.merge(coach_data_df, historical_cpi[['Year', 'Jan']], left_on=['start_year'], right_on=['Year'])"
   ]
  },
  {
   "cell_type": "code",
   "execution_count": 42,
   "id": "79b106f2-fd5e-4a6c-b4f9-206d101ac9e1",
   "metadata": {
    "execution": {
     "iopub.execute_input": "2023-08-07T22:24:57.735744Z",
     "iopub.status.busy": "2023-08-07T22:24:57.734721Z",
     "iopub.status.idle": "2023-08-07T22:24:57.756660Z",
     "shell.execute_reply": "2023-08-07T22:24:57.755686Z",
     "shell.execute_reply.started": "2023-08-07T22:24:57.735744Z"
    },
    "tags": []
   },
   "outputs": [],
   "source": [
    "coach_data_df = coach_data_df.rename(columns={'Jan': 'year_start_CPI'})"
   ]
  },
  {
   "cell_type": "code",
   "execution_count": 44,
   "id": "17885fa6-bb69-4781-af56-a8cecbaece9e",
   "metadata": {
    "execution": {
     "iopub.execute_input": "2023-08-07T22:27:01.214578Z",
     "iopub.status.busy": "2023-08-07T22:27:01.214578Z",
     "iopub.status.idle": "2023-08-07T22:27:01.233527Z",
     "shell.execute_reply": "2023-08-07T22:27:01.232530Z",
     "shell.execute_reply.started": "2023-08-07T22:27:01.214578Z"
    },
    "tags": []
   },
   "outputs": [],
   "source": [
    "coach_data_df['adjusted_salary'] = coach_data_df.apply(lambda x: x['salary'] * (coach_data_df['year_start_CPI'].max()/x['year_start_CPI']), axis=1)"
   ]
  },
  {
   "cell_type": "code",
   "execution_count": 47,
   "id": "ec5d4f91-9c88-410a-9c54-1025dbdaad50",
   "metadata": {
    "execution": {
     "iopub.execute_input": "2023-08-07T22:27:38.453076Z",
     "iopub.status.busy": "2023-08-07T22:27:38.452073Z",
     "iopub.status.idle": "2023-08-07T22:27:38.917843Z",
     "shell.execute_reply": "2023-08-07T22:27:38.916831Z",
     "shell.execute_reply.started": "2023-08-07T22:27:38.453076Z"
    },
    "tags": []
   },
   "outputs": [
    {
     "data": {
      "image/png": "[encoded data removed]",
      "text/plain": [
       "<Figure size 640x480 with 1 Axes>"
      ]
     },
     "metadata": {},
     "output_type": "display_data"
    }
   ],
   "source": [
    "sns.scatterplot(coach_data_df, x='start_year', y='adjusted_salary', hue='Coach')\n",
    "plt.ylabel('Salary [Millions 2018 Dollars]')\n",
    "plt.xlabel('Starting Year of Coaching')\n",
    "plt.title('Coach Salary (Inflation Adjusted)')\n",
    "plt.show()\n"
   ]
  },
  {
   "cell_type": "code",
   "execution_count": null,
   "id": "44f0e193-2538-4c7e-ad59-cd753578fbe3",
   "metadata": {},
   "outputs": [],
   "source": []
  }
 ],
 "metadata": {
  "kernelspec": {
   "display_name": "Python 3 (ipykernel)",
   "language": "python",
   "name": "python3"
  },
  "language_info": {
   "codemirror_mode": {
    "name": "ipython",
    "version": 3
   },
   "file_extension": ".py",
   "mimetype": "text/x-python",
   "name": "python",
   "nbconvert_exporter": "python",
   "pygments_lexer": "ipython3",
   "version": "3.9.7"
  }
 },
 "nbformat": 4,
 "nbformat_minor": 5
}
